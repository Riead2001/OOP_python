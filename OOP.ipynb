{
  "nbformat": 4,
  "nbformat_minor": 0,
  "metadata": {
    "colab": {
      "provenance": []
    },
    "kernelspec": {
      "name": "python3",
      "display_name": "Python 3"
    },
    "language_info": {
      "name": "python"
    }
  },
  "cells": [
    {
      "cell_type": "code",
      "execution_count": null,
      "metadata": {
        "id": "62n2kAtpD_dS",
        "colab": {
          "base_uri": "https://localhost:8080/"
        },
        "outputId": "bed6f43d-3dbf-4cb4-c0b3-9d12589c3ece"
      },
      "outputs": [
        {
          "output_type": "stream",
          "name": "stdout",
          "text": [
            "karan0\n",
            "<__main__.Student object at 0x7d5a7230d930>\n"
          ]
        }
      ],
      "source": [
        "\n",
        "class Student:\n",
        "  name = \"karan0\"\n",
        "\n",
        "\n",
        "s1=Student()\n",
        "print(s1.name)\n",
        "print(s1)\n"
      ]
    },
    {
      "cell_type": "code",
      "source": [
        "class Car:\n",
        "  color ='blue'\n",
        "  model= \"mercedes\"\n",
        "\n",
        "\n",
        "car1 = Car()\n",
        "print(car1.color)\n",
        "print(car1.model)"
      ],
      "metadata": {
        "colab": {
          "base_uri": "https://localhost:8080/"
        },
        "id": "nhVw9jSU2J1t",
        "outputId": "2ad73cfc-c6f9-4092-ee30-4d4d2a5ca132"
      },
      "execution_count": null,
      "outputs": [
        {
          "output_type": "stream",
          "name": "stdout",
          "text": [
            "blue\n",
            "mercedes\n"
          ]
        }
      ]
    },
    {
      "cell_type": "code",
      "source": [
        "\n",
        "class Student:\n",
        "\n",
        "  @staticmethod\n",
        "  def welcome():\n",
        "     print(\"Welcome Student\")\n",
        "\n",
        "\n",
        "  college_name  = \"Adamjee\"\n",
        "  def __init__(self,first_name ,last_name ,marks ):\n",
        "    self.first_name = first_name\n",
        "    self.last_name = last_name\n",
        "    self.marks = marks\n",
        "\n",
        "  def printMark(self):\n",
        "    print(self.first_name , \" \",self.last_name, \" has got \" , self.marks)\n",
        "\n",
        "\n",
        "\n",
        "\n",
        "s1=Student('Riead','Hasan',98)\n",
        "\n",
        "s2=Student('Maaisha','Mehjabin',99)\n",
        "print(s1.welcome())\n",
        "print(s1.printMark())\n"
      ],
      "metadata": {
        "colab": {
          "base_uri": "https://localhost:8080/"
        },
        "id": "4vu_89D22lJo",
        "outputId": "b1771c79-1e72-43d6-a641-146b61e1d147"
      },
      "execution_count": null,
      "outputs": [
        {
          "output_type": "stream",
          "name": "stdout",
          "text": [
            "Welcome Student\n",
            "None\n",
            "Riead   Hasan  has got  98\n",
            "None\n"
          ]
        }
      ]
    },
    {
      "cell_type": "markdown",
      "source": [
        "**Abstraction**"
      ],
      "metadata": {
        "id": "0LY45ABN-HH_"
      }
    },
    {
      "cell_type": "code",
      "source": [
        "class Car:\n",
        "  def __init__(self):\n",
        "    self.accelarator = False\n",
        "    self.brk = False\n",
        "    self.clutch = False\n",
        "  def start(self):\n",
        "    self.accelarator = True\n",
        "\n",
        "    self.clutch = True\n",
        "    print(\"Car started.....\")\n",
        "\n",
        "\n",
        "\n",
        "\n",
        "car1=Car()\n",
        "car1.start()"
      ],
      "metadata": {
        "colab": {
          "base_uri": "https://localhost:8080/"
        },
        "id": "f5U7LdFr8n6f",
        "outputId": "0b61b708-b26d-4165-88a0-8f9dd76ded58"
      },
      "execution_count": null,
      "outputs": [
        {
          "output_type": "stream",
          "name": "stdout",
          "text": [
            "Car started.....\n"
          ]
        }
      ]
    },
    {
      "cell_type": "markdown",
      "source": [
        "**Encapsulation**\n",
        "\n",
        "\n",
        "> *Wrapping Data and Function into a single Unit*\n",
        "\n",
        "\n",
        "\n",
        "\n"
      ],
      "metadata": {
        "id": "veDDMJR2-K7m"
      }
    },
    {
      "cell_type": "code",
      "source": [
        "class Account:\n",
        "\n",
        "  def __init__(self,bal , acc):\n",
        "    self.balance = bal\n",
        "    self.account_no = acc\n",
        "\n",
        "  def credit(self , amount):\n",
        "    self.balance = self.balance + amount\n",
        "    print(\"You have credited \" , amount , \"taka for now\")\n",
        "    print(\"Your current balance is\" , self.get_balance() , \" taka\")\n",
        "\n",
        "\n",
        "  def debit(self , amount):\n",
        "    self.balance = self.balance - amount\n",
        "    print(\"You have credited \" , amount, \"taka for now\")\n",
        "    print(\"Your current balance is\" , self.get_balance() , \" taka\")\n",
        "\n",
        "\n",
        "\n",
        "  def get_balance(self):\n",
        "    return self.balance\n",
        "\n",
        "\n",
        "\n",
        "account1 = Account(10000,21212)\n",
        "\n",
        "account1.credit(14000)\n",
        "account1.credit(580)\n",
        "account1.debit(4670)\n"
      ],
      "metadata": {
        "id": "Fk5YbAPm-OSw",
        "colab": {
          "base_uri": "https://localhost:8080/"
        },
        "outputId": "d30bfbfd-3413-4c58-c46a-3ea1b40c6630"
      },
      "execution_count": null,
      "outputs": [
        {
          "output_type": "stream",
          "name": "stdout",
          "text": [
            "You have credited  14000 taka for now\n",
            "Your current balance is 24000  taka\n",
            "You have credited  580 taka for now\n",
            "Your current balance is 24580  taka\n",
            "You have credited  4670 taka for now\n",
            "Your current balance is 19910  taka\n"
          ]
        }
      ]
    },
    {
      "cell_type": "markdown",
      "source": [
        "**Del Keyword**"
      ],
      "metadata": {
        "id": "8vmawTtPX5W6"
      }
    },
    {
      "cell_type": "code",
      "source": [
        "class Student:\n",
        "\n",
        "  @staticmethod\n",
        "  def welcome():\n",
        "     print(\"Welcome Student\")\n",
        "\n",
        "\n",
        "  college_name  = \"Adamjee\"\n",
        "  def __init__(self,first_name ,last_name ,marks ):\n",
        "    self.first_name = first_name\n",
        "    self.last_name = last_name\n",
        "    self.marks = marks\n",
        "\n",
        "\n",
        "s1=Student(\"Riead\" , \"Hasan\" , 100)\n",
        "\n",
        "print(s1)\n",
        "del s1.first_name\n",
        "del (s1)\n",
        "print(s1) # will give error"
      ],
      "metadata": {
        "colab": {
          "base_uri": "https://localhost:8080/"
        },
        "id": "X9v4fUWcX9GR",
        "outputId": "08d569a6-7005-48c7-c39a-e2743070a428"
      },
      "execution_count": null,
      "outputs": [
        {
          "output_type": "stream",
          "name": "stdout",
          "text": [
            "<__main__.Student object at 0x7d5a3d2b07c0>\n"
          ]
        }
      ]
    },
    {
      "cell_type": "markdown",
      "source": [
        "**Private Entity**"
      ],
      "metadata": {
        "id": "zkzXZ0-EYlHR"
      }
    },
    {
      "cell_type": "code",
      "source": [
        "class Account:\n",
        "  def __init__(self,acc_n , acc_pass):\n",
        "    self.account_no = acc_n\n",
        "    self.__account_pass = acc_pass #privatee attribute\n",
        "  def reset(self):\n",
        "    print(self.__account_pass)\n",
        "\n",
        "\n",
        "acc1 = Account(12345, \"sdfsd\")\n",
        "print(acc1.account_no)\n",
        "print(acc1.reset())\n",
        "print(acc1.__account_pass)"
      ],
      "metadata": {
        "colab": {
          "base_uri": "https://localhost:8080/",
          "height": 228
        },
        "id": "xO-vvC4NYkfq",
        "outputId": "4fd024e0-533e-4ea3-998e-2462d14b5056"
      },
      "execution_count": null,
      "outputs": [
        {
          "output_type": "stream",
          "name": "stdout",
          "text": [
            "12345\n",
            "sdfsd\n",
            "None\n"
          ]
        },
        {
          "output_type": "error",
          "ename": "AttributeError",
          "evalue": "'Account' object has no attribute '__account_pass'",
          "traceback": [
            "\u001b[0;31m---------------------------------------------------------------------------\u001b[0m",
            "\u001b[0;31mAttributeError\u001b[0m                            Traceback (most recent call last)",
            "\u001b[0;32m<ipython-input-41-793248d2d45a>\u001b[0m in \u001b[0;36m<cell line: 12>\u001b[0;34m()\u001b[0m\n\u001b[1;32m     10\u001b[0m \u001b[0mprint\u001b[0m\u001b[0;34m(\u001b[0m\u001b[0macc1\u001b[0m\u001b[0;34m.\u001b[0m\u001b[0maccount_no\u001b[0m\u001b[0;34m)\u001b[0m\u001b[0;34m\u001b[0m\u001b[0;34m\u001b[0m\u001b[0m\n\u001b[1;32m     11\u001b[0m \u001b[0mprint\u001b[0m\u001b[0;34m(\u001b[0m\u001b[0macc1\u001b[0m\u001b[0;34m.\u001b[0m\u001b[0mreset\u001b[0m\u001b[0;34m(\u001b[0m\u001b[0;34m)\u001b[0m\u001b[0;34m)\u001b[0m\u001b[0;34m\u001b[0m\u001b[0;34m\u001b[0m\u001b[0m\n\u001b[0;32m---> 12\u001b[0;31m \u001b[0mprint\u001b[0m\u001b[0;34m(\u001b[0m\u001b[0macc1\u001b[0m\u001b[0;34m.\u001b[0m\u001b[0m__account_pass\u001b[0m\u001b[0;34m)\u001b[0m\u001b[0;34m\u001b[0m\u001b[0;34m\u001b[0m\u001b[0m\n\u001b[0m",
            "\u001b[0;31mAttributeError\u001b[0m: 'Account' object has no attribute '__account_pass'"
          ]
        }
      ]
    },
    {
      "cell_type": "code",
      "source": [
        "class Person:\n",
        "   __name =\"anonymus\"\n",
        "   def __hello(self):\n",
        "      print(\"hello\",self.__name )\n",
        "\n",
        "   def welcome(self ):\n",
        "\n",
        "      self.__hello()\n",
        "\n",
        "p1=Person()\n",
        "\n",
        "print(p1.welcome())"
      ],
      "metadata": {
        "colab": {
          "base_uri": "https://localhost:8080/"
        },
        "id": "Jqy9v8o7csb6",
        "outputId": "58c4c66e-58fa-4376-b295-0804407e70dd"
      },
      "execution_count": null,
      "outputs": [
        {
          "output_type": "stream",
          "name": "stdout",
          "text": [
            "hello anonymus\n",
            "None\n"
          ]
        }
      ]
    },
    {
      "cell_type": "markdown",
      "source": [],
      "metadata": {
        "id": "cAq-UZw9eh44"
      }
    },
    {
      "cell_type": "markdown",
      "source": [
        "**Inheritance**"
      ],
      "metadata": {
        "id": "MewOidFheCQ4"
      }
    },
    {
      "cell_type": "code",
      "source": [
        "#Single Inheritance\n",
        "\n",
        "\n",
        "\n",
        "class Car:\n",
        "  def __init__(self):\n",
        "    self.accelarator = False\n",
        "    self.brk = False\n",
        "    self.clutch = False\n",
        "  def start(self):\n",
        "    self.accelarator = True\n",
        "\n",
        "    self.clutch = True\n",
        "    print(\"Car started.....\")\n",
        "\n",
        "\n",
        "class ToyotaCar(Car):\n",
        "  def __init__(self,name):\n",
        "    self.name = name\n",
        "\n",
        "Totoya1 = ToyotaCar(\"Prado\")\n",
        "print(Totoya1.name)\n",
        "print(Totoya1.start())\n"
      ],
      "metadata": {
        "colab": {
          "base_uri": "https://localhost:8080/"
        },
        "id": "kkqqQACqeBhx",
        "outputId": "34b7921c-5544-4921-e429-41faf433a8df"
      },
      "execution_count": null,
      "outputs": [
        {
          "output_type": "stream",
          "name": "stdout",
          "text": [
            "Prado\n",
            "Car started.....\n",
            "None\n"
          ]
        }
      ]
    },
    {
      "cell_type": "code",
      "source": [
        "#Multi-Level Inheritance\n",
        "\n",
        "\n",
        "class Car:\n",
        "  def __init__(self):\n",
        "    self.accelarator = False\n",
        "    self.brk = False\n",
        "    self.clutch = False\n",
        "  def start(self):\n",
        "    self.accelarator = True\n",
        "\n",
        "    self.clutch = True\n",
        "    print(\"Car started.....\")\n",
        "\n",
        "\n",
        "class ToyotaCar(Car):\n",
        "  def __init__(self,brand):\n",
        "    self.brand = brand\n",
        "\n",
        "\n",
        "class Premio(ToyotaCar):\n",
        "  def __init__(self,type):\n",
        "    self.type = type\n",
        "\n",
        "\n",
        "car1 = Premio(\"Electric\")\n",
        "\n",
        "print(car1.type)\n",
        "print(car1.start())"
      ],
      "metadata": {
        "colab": {
          "base_uri": "https://localhost:8080/"
        },
        "id": "ZahrLBkofvz6",
        "outputId": "8eb9d123-45cf-4741-cbbd-094c2931e90e"
      },
      "execution_count": null,
      "outputs": [
        {
          "output_type": "stream",
          "name": "stdout",
          "text": [
            "Electric\n",
            "Car started.....\n",
            "None\n"
          ]
        }
      ]
    },
    {
      "cell_type": "code",
      "source": [
        "#Multiple Inheritance\n",
        "\n",
        "\n",
        "class A:\n",
        "  varA = \"welcome to class A\"\n",
        "class B:\n",
        "  varB= \"welcome to class B\"\n",
        "\n",
        "class C(A,B):\n",
        "  varC = \"welcome to class C\"\n",
        "\n",
        "\n",
        "obj = C()\n",
        "print(obj.varC)\n",
        "print(obj.varA)\n",
        "print(obj.varB)\n"
      ],
      "metadata": {
        "colab": {
          "base_uri": "https://localhost:8080/"
        },
        "id": "gbjc45U6gmlJ",
        "outputId": "04bcdc81-39fa-4094-8048-f97d88f7f63b"
      },
      "execution_count": null,
      "outputs": [
        {
          "output_type": "stream",
          "name": "stdout",
          "text": [
            "welcome to class C\n",
            "welcome to class A\n",
            "welcome to class B\n"
          ]
        }
      ]
    },
    {
      "cell_type": "markdown",
      "source": [
        "Using Super constructor to inherit the merhod and attribute of parent"
      ],
      "metadata": {
        "id": "l2d-Y0wclIQJ"
      }
    },
    {
      "cell_type": "code",
      "source": [
        "class Car:\n",
        "    def __init__(self, type):\n",
        "        self.type = type\n",
        "        self.accelerator = False\n",
        "        self.brake = False\n",
        "        self.clutch = False\n",
        "\n",
        "    def start(self):\n",
        "        self.accelerator = True\n",
        "        self.clutch = True\n",
        "        print(\"Car started.....\")\n",
        "\n",
        "\n",
        "class ToyotaCar(Car):\n",
        "    def __init__(self, brand, type):\n",
        "        super().__init__(type)  # Initialize parent class\n",
        "        self.brand = brand\n",
        "\n",
        "\n",
        "class Premio(ToyotaCar):\n",
        "    def __init__(self, num_plate, brand, type):\n",
        "        super().__init__(brand, type)  # Initialize parent class\n",
        "        self.num_plate = num_plate\n",
        "        super().start()\n",
        "\n",
        "\n",
        "\n",
        "car1 = Premio(\"XYZ1234\", \"Toyota\", \"Electric\")\n",
        "\n",
        "print(car1.type)\n",
        "print(car1.brand)\n",
        "print(car1.num_plate)\n",
        "\n",
        "# Starting the car\n",
        "car1.start()\n"
      ],
      "metadata": {
        "colab": {
          "base_uri": "https://localhost:8080/"
        },
        "id": "hX8JfneaiJJh",
        "outputId": "b9e86d59-e8b2-4a4e-bca5-0b27c98d38d8"
      },
      "execution_count": null,
      "outputs": [
        {
          "output_type": "stream",
          "name": "stdout",
          "text": [
            "Car started.....\n",
            "Electric\n",
            "Toyota\n",
            "XYZ1234\n",
            "Car started.....\n"
          ]
        }
      ]
    },
    {
      "cell_type": "markdown",
      "source": [
        "**Class Method**"
      ],
      "metadata": {
        "id": "9bez9n940BNB"
      }
    },
    {
      "cell_type": "code",
      "source": [
        "class MyClass:\n",
        "    instance_count = 0\n",
        "\n",
        "    def __init__(self):\n",
        "        MyClass.instance_count += 1\n",
        "\n",
        "    @classmethod\n",
        "    def get_instance_count(cls):\n",
        "        return cls.instance_count\n",
        "\n",
        "# Creating objects\n",
        "obj1 = MyClass()\n",
        "obj2 = MyClass()\n",
        "obj3 = MyClass()\n",
        "\n",
        "\n",
        "print(MyClass.get_instance_count())\n"
      ],
      "metadata": {
        "colab": {
          "base_uri": "https://localhost:8080/"
        },
        "id": "C17ra3VY0DTY",
        "outputId": "e6e855ea-8d4e-485e-9787-613cb5552d0b"
      },
      "execution_count": null,
      "outputs": [
        {
          "output_type": "stream",
          "name": "stdout",
          "text": [
            "3\n"
          ]
        }
      ]
    },
    {
      "cell_type": "code",
      "source": [
        "class Student:\n",
        "    college_name = \"Adamjee\"  # Class-level attribute\n",
        "\n",
        "    @staticmethod\n",
        "    def welcome():\n",
        "        print(\"Welcome Student\")\n",
        "\n",
        "    def __init__(self, first_name, last_name, marks):\n",
        "        self.first_name = first_name\n",
        "        self.last_name = last_name\n",
        "        self.marks = marks\n",
        "\n",
        "    @classmethod\n",
        "    def set_college_name(cls, name):\n",
        "        cls.college_name = name\n",
        "\n",
        "    @classmethod\n",
        "    def get_college_name(cls):\n",
        "        return cls.college_name\n",
        "\n",
        "    def printMark(self):\n",
        "        print(self.first_name, self.last_name, \"has got\", self.marks)\n",
        "\n",
        "\n",
        "s1 = Student('Riead', 'Hasan', 98)\n",
        "s2 = Student('Maaisha', 'Mehjabin', 99)\n",
        "\n",
        "Student.welcome()\n",
        "\n",
        "# Use the class method to retrieve and update class-level attribute\n",
        "print(\"Original College Name:\", Student.get_college_name())\n",
        "\n",
        "Student.set_college_name(\"Oxford College\")\n",
        "print(\"Updated College Name:\", Student.get_college_name())\n",
        "\n",
        "# Instance method\n",
        "s1.printMark()\n",
        "s2.printMark()\n"
      ],
      "metadata": {
        "colab": {
          "base_uri": "https://localhost:8080/"
        },
        "id": "T5uc7pWp1SGI",
        "outputId": "2f18a9c3-329b-4391-e44e-a16a13e5cf1a"
      },
      "execution_count": null,
      "outputs": [
        {
          "output_type": "stream",
          "name": "stdout",
          "text": [
            "Welcome Student\n",
            "Original College Name: Adamjee\n",
            "Updated College Name: Oxford College\n",
            "Riead Hasan has got 98\n",
            "Maaisha Mehjabin has got 99\n"
          ]
        }
      ]
    },
    {
      "cell_type": "markdown",
      "source": [
        "**Percentage Calculator**"
      ],
      "metadata": {
        "id": "yMkf54wh19Sp"
      }
    },
    {
      "cell_type": "code",
      "source": [
        "class Student:\n",
        "\n",
        "  def __init__(self , phy , chm , math):\n",
        "    self.phy = phy\n",
        "    self.chm = chm\n",
        "    self.math = math\n",
        "    self.percentage = str(str((self.phy + self.chm + self.math)/3) + \"%\")\n",
        "\n",
        "\n",
        "stu1 = Student(98,99,97)\n",
        "print(stu1.percentage)\n",
        "print(stu1.phy)\n",
        "stu1.phy = 67\n",
        "print(stu1.phy)\n",
        "print(stu1.percentage)"
      ],
      "metadata": {
        "colab": {
          "base_uri": "https://localhost:8080/"
        },
        "id": "-OjgiK792DMH",
        "outputId": "d368f1c2-5142-4ad6-e6f1-ea1a82ea5c1a"
      },
      "execution_count": null,
      "outputs": [
        {
          "output_type": "stream",
          "name": "stdout",
          "text": [
            "98.0%\n",
            "98\n",
            "67\n",
            "98.0%\n"
          ]
        }
      ]
    },
    {
      "cell_type": "markdown",
      "source": [
        "\n",
        "**Property Decorator**\n",
        "\n",
        "\n",
        "> *We can see a problem that though we are changing mark of phy , the percentage is not changing according to that . Thats why we are going to use property method here .*\n",
        "\n",
        "\n",
        "\n"
      ],
      "metadata": {
        "id": "a7avZ2B75vNw"
      }
    },
    {
      "cell_type": "code",
      "source": [
        "class Student:\n",
        "\n",
        "  def __init__(self , phy , chm , math):\n",
        "    self.phy = phy\n",
        "    self.chm = chm\n",
        "    self.math = math\n",
        "\n",
        "\n",
        "  @property\n",
        "  def percentage(self):\n",
        "    return str(str((self.phy + self.chm + self.math)/3) + \"%\")\n",
        "\n",
        "\n",
        "stu1 = Student(98,99,97)\n",
        "print(stu1.percentage)\n",
        "\n",
        "stu1.phy = 67\n",
        "\n",
        "print(stu1.percentage)"
      ],
      "metadata": {
        "colab": {
          "base_uri": "https://localhost:8080/"
        },
        "id": "jurQGkPM6CVJ",
        "outputId": "497a7167-8708-430a-a48c-908d2441dc65"
      },
      "execution_count": null,
      "outputs": [
        {
          "output_type": "stream",
          "name": "stdout",
          "text": [
            "98.0%\n",
            "87.66666666666667%\n"
          ]
        }
      ]
    },
    {
      "cell_type": "markdown",
      "source": [
        "**Understanding the Polymorphism through  a Complex Number Problem**"
      ],
      "metadata": {
        "id": "RAA_8zsG-wtB"
      }
    },
    {
      "cell_type": "code",
      "source": [
        "class Complex:\n",
        "  def __init__(self, real ,img):\n",
        "    self.real = real\n",
        "    self.img = img\n",
        "\n",
        "  def show_num(self):\n",
        "    print(self.real , \"+\", self.img , \"i\")\n",
        "\n",
        "  def add1(self , num2):\n",
        "    new_real = self.real + num2.real\n",
        "    new_img = self.img + num2.img\n",
        "    return Complex(new_real , new_img)\n",
        "\n",
        "  #Using dunder or magic method\n",
        "  def __add__(self , num2):\n",
        "    new_real = self.real + num2.real\n",
        "    new_img = self.img + num2.img\n",
        "    return Complex(new_real , new_img)\n",
        "\n",
        "\n",
        "\n",
        "num1=Complex(1,3)\n",
        "num1.show_num()\n",
        "\n",
        "num2 = Complex(4,6)\n",
        "num2.show_num()\n",
        "\n",
        "num3=num1.add1(num2)\n",
        "num3.show_num()\n",
        "\n",
        "\n",
        "num4 = num1+num2\n",
        "num4.show_num()"
      ],
      "metadata": {
        "colab": {
          "base_uri": "https://localhost:8080/"
        },
        "id": "r0Vr3R7M60_p",
        "outputId": "fd9647c1-94f2-4249-abc6-d50e0df4b96c"
      },
      "execution_count": null,
      "outputs": [
        {
          "output_type": "stream",
          "name": "stdout",
          "text": [
            "1 + 3 i\n",
            "4 + 6 i\n",
            "5 + 9 i\n",
            "5 + 9 i\n"
          ]
        }
      ]
    },
    {
      "cell_type": "markdown",
      "source": [
        "*The codes have been practiced following the video of Shradha Khapra(ApnaCollege) videos . The notes are being attached here for further study *\n",
        "\n",
        "\n",
        "\n",
        "> [Drive Link :](https://drive.google.com/file/d/10a2ZbFoudyQvm_uts-AaGi59JFqBSftP/view?usp=sharing)\n",
        "\n"
      ],
      "metadata": {
        "id": "mLVp6Njr_MJR"
      }
    },
    {
      "cell_type": "code",
      "source": [],
      "metadata": {
        "id": "OeHhcbIz_pyZ"
      },
      "execution_count": null,
      "outputs": []
    }
  ]
}